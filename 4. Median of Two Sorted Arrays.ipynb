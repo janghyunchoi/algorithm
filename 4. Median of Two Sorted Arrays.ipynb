{
 "cells": [
  {
   "cell_type": "markdown",
   "metadata": {},
   "source": [
    "# 4. Median of Two Sorted Arrays\n",
    "\n",
    "\n",
    "#### Given two sorted arrays nums1 and nums2 of size m and n respectively, return the median of the two sorted arrays.\n",
    "\n",
    "#### The overall run time complexity should be O(log (m+n))."
   ]
  },
  {
   "cell_type": "markdown",
   "metadata": {},
   "source": [
    "#### Example 1:\n",
    "\n",
    "Input: nums1 = [1,3], nums2 = [2]\n",
    "Output: 2.00000\n",
    "Explanation: merged array = [1,2,3] and median is 2.\n",
    "\n",
    "#### Example 2:\n",
    "\n",
    "Input: nums1 = [1,2], nums2 = [3,4]\n",
    "Output: 2.50000\n",
    "Explanation: merged array = [1,2,3,4] and median is (2 + 3) / 2 = 2.5.\n",
    "\n",
    "#### Example 3:\n",
    "\n",
    "Input: nums1 = [0,0], nums2 = [0,0]\n",
    "Output: 0.00000\n",
    "\n",
    "#### Example 4:\n",
    "\n",
    "Input: nums1 = [], nums2 = [1]\n",
    "Output: 1.00000\n",
    "\n",
    "#### Example 5:\n",
    "\n",
    "Input: nums1 = [2], nums2 = []\n",
    "Output: 2.00000\n",
    " \n",
    "\n",
    "\n",
    "#### Constraints:\n",
    "\n",
    "nums1.length == m\n",
    "nums2.length == n\n",
    "0 <= m <= 1000\n",
    "0 <= n <= 1000\n",
    "1 <= m + n <= 2000\n",
    "-106 <= nums1[i], nums2[i] <= 106"
   ]
  },
  {
   "cell_type": "code",
   "execution_count": 29,
   "metadata": {},
   "outputs": [],
   "source": [
    "nums1 = []\n",
    "nums2 = [1]\n",
    "\n",
    "def findMedianSortedArrays(nums1, nums2) -> float:\n",
    "\n",
    "    if(len(nums1) > len(nums2)):\n",
    "        return self.findMedianSortedArrays(nums2, nums1)\n",
    "    \n",
    "    aarray = nums1\n",
    "    barray = nums2        \n",
    "    m = len(aarray)\n",
    "    n = len(barray)\n",
    "    start = 0\n",
    "    end = m\n",
    "        \n",
    "    while(start <= end):\n",
    "        partition1 = int((start + end) / 2)\n",
    "        partition2 = int((m + n + 1) / 2 - partition1)\n",
    "        \n",
    "        if(partition1 == 0):\n",
    "            x1 = float('-inf')\n",
    "        else:\n",
    "            x1 = aarray[partition1 - 1]        \n",
    "        \n",
    "        if(partition1 == len(aarray)):\n",
    "            x2 = float('inf')\n",
    "        else:\n",
    "            x2 = aarray[partition1]\n",
    "              \n",
    "        if(partition2 == 0):\n",
    "            y1 = float('-inf')\n",
    "        else:\n",
    "            y1 = barray[partition2 - 1]\n",
    "\n",
    "        if(partition2 == len(barray)):\n",
    "            y2 = float('inf')\n",
    "        else:\n",
    "            y2 = barray[partition2]\n",
    "                \n",
    "        if((x1 <= y2) and (y1 <= x2)):\n",
    "            if((m+n)%2 == 0):\n",
    "                median = ((max(x1, y1) + min(x2, y2)) / 2)\n",
    "                return median\n",
    "            else:\n",
    "                median = max(x1, y1)\n",
    "                return median\n",
    "                \n",
    "        elif(y1 > x1):\n",
    "            start = partition1 + 1\n",
    "        else:\n",
    "            end = partition1 - 1\n",
    "        "
   ]
  },
  {
   "cell_type": "code",
   "execution_count": 30,
   "metadata": {},
   "outputs": [
    {
     "data": {
      "text/plain": [
       "1"
      ]
     },
     "execution_count": 30,
     "metadata": {},
     "output_type": "execute_result"
    }
   ],
   "source": [
    "findMedianSortedArrays(nums1, nums2)"
   ]
  },
  {
   "cell_type": "code",
   "execution_count": 28,
   "metadata": {},
   "outputs": [
    {
     "data": {
      "text/plain": [
       "0.0"
      ]
     },
     "execution_count": 28,
     "metadata": {},
     "output_type": "execute_result"
    }
   ],
   "source": [
    "0/2"
   ]
  },
  {
   "cell_type": "code",
   "execution_count": 14,
   "metadata": {},
   "outputs": [],
   "source": [
    "\"\"\"\n",
    "brainstorming sample\n",
    "\n",
    "2 4 6\n",
    "1 3 5 7\n",
    "\n",
    "\n",
    "\n",
    "#1st loop\n",
    "#start = 0 end = 3\n",
    "#partitionX = 1, partition Y = 3\n",
    "  2    4 6\n",
    "1 3 5   7\n",
    "# since y min > x max we push our partitionX to the right side one click\n",
    "\n",
    "\n",
    "\n",
    "# 2nd loop \n",
    "# partitionX = 2, partitionY = 2\n",
    "  2 4     6\n",
    "  1 3    5 7\n",
    "# since xmin < ymax, ymin < xmax we found the ground for median. \n",
    "From this case, we can find that median is placed on left side.\n",
    "Also, since 4 is the median of the sample, we also can guess that \n",
    "to find out the median, we need to use max(xmin, ymin).  \n",
    "\"\"\"\n",
    "    \n",
    "def findMedianSortedArrays(self, nums1: List[int], nums2: List[int]) -> float:\n",
    "    if(len(nums1) < len(nums2)):\n",
    "        return self.findMedianSortedArrays(nums2, nums1)\n",
    "\n",
    "    aarray = nums1\n",
    "    barray = nums2\n",
    "\n",
    "    m = len(aarray)\n",
    "    n = len(barray)\n",
    "    start = 0\n",
    "    end = m\n",
    "\n",
    "    while(start <= end):\n",
    "\n",
    "        partitionX = int((start + end)/2)\n",
    "        partitionY = int((m + n + 1)/2 - partitionX)\n",
    "\n",
    "        if(partitionX == 0):\n",
    "            xmin = float('-inf')\n",
    "        else:\n",
    "            xmin = aarray[partitionX - 1]\n",
    "\n",
    "        if(partitionX == m):\n",
    "            xmax = float('inf')\n",
    "        else:\n",
    "            xmax = aarray[partitionX]\n",
    "\n",
    "        if(partitionY == 0):\n",
    "            ymin = float('-inf')\n",
    "        else:\n",
    "            ymin = barray[partitionY - 1]\n",
    "\n",
    "        if(partitionY == n):\n",
    "            ymax = float('inf')\n",
    "        else:\n",
    "            ymax = barray[partitionY]\n",
    "\n",
    "        if((xmin <= ymax) and (ymin <= xmax)):\n",
    "            if(((m + n) % 2) == 0):\n",
    "                median = (max(xmin, ymin) + min(xmax, ymax)) / 2\n",
    "                return median\n",
    "            else:\n",
    "                median = max(xmin, ymin)\n",
    "                return median\n",
    "\n",
    "        elif(xmin > ymax):\n",
    "            end = partitionX - 1\n",
    "        else:\n",
    "            start = partitionX + 1\n"
   ]
  },
  {
   "cell_type": "markdown",
   "metadata": {},
   "source": []
  }
 ],
 "metadata": {
  "kernelspec": {
   "display_name": "Python 3",
   "language": "python",
   "name": "python3"
  },
  "language_info": {
   "codemirror_mode": {
    "name": "ipython",
    "version": 3
   },
   "file_extension": ".py",
   "mimetype": "text/x-python",
   "name": "python",
   "nbconvert_exporter": "python",
   "pygments_lexer": "ipython3",
   "version": "3.8.5"
  }
 },
 "nbformat": 4,
 "nbformat_minor": 4
}
