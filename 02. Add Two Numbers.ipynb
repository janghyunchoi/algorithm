{
 "cells": [
  {
   "cell_type": "code",
   "execution_count": 68,
   "metadata": {},
   "outputs": [
    {
     "name": "stdout",
     "output_type": "stream",
     "text": [
      "7\n",
      "0\n",
      "8\n"
     ]
    },
    {
     "data": {
      "text/plain": [
       "'    \\ntemp = l2\\nwhile(temp):\\n    print(temp.val)\\n    temp = temp.next\\n'"
      ]
     },
     "execution_count": 68,
     "metadata": {},
     "output_type": "execute_result"
    }
   ],
   "source": [
    "# Definition for singly-linked list.\n",
    "class ListNode:\n",
    "    def __init__(self, val=0, next=None):\n",
    "        self.val = val\n",
    "        self.next = next\n",
    "\n",
    "l1 = ListNode(2)\n",
    "\n",
    "l1one = ListNode(4)\n",
    "l1two = ListNode(3)\n",
    "\n",
    "l1.next = l1one\n",
    "l1one.next = l1two\n",
    "\n",
    "l2 = ListNode(5)\n",
    "\n",
    "l2one = ListNode(6)\n",
    "l2two = ListNode(4)\n",
    "\n",
    "l2.next = l2one\n",
    "l2one.next = l2two\n",
    "\n",
    "head = temp = ListNode(0)\n",
    "carry = 0\n",
    "\n",
    "while(l1 or l2 or carry):\n",
    "    if(l1):\n",
    "        carry += l1.val\n",
    "        l1 = l1.next\n",
    "    if(l2):\n",
    "        carry += l2.val\n",
    "        l2 = l2.next\n",
    "    \n",
    "    temp.val = carry % 10\n",
    "    carry = carry // 10\n",
    "    \n",
    "    if(l1 or l2 or carry):\n",
    "        temp.next = ListNode(0)\n",
    "        temp = temp.next\n",
    "\n",
    "    return temp\n",
    "\n",
    "\n",
    "\n",
    "\n",
    "while(head):\n",
    "    print(head.val)\n",
    "    head = head.next\n",
    "\n",
    "'''    \n",
    "temp = l2\n",
    "while(temp):\n",
    "    print(temp.val)\n",
    "    temp = temp.next\n",
    "'''\n",
    "\n"
   ]
  },
  {
   "cell_type": "code",
   "execution_count": 77,
   "metadata": {},
   "outputs": [
    {
     "name": "stdout",
     "output_type": "stream",
     "text": [
      "8\n",
      "9\n",
      "9\n",
      "9\n",
      "0\n",
      "0\n",
      "0\n",
      "1\n"
     ]
    }
   ],
   "source": [
    "import numpy as np\n",
    "\n",
    "# Definition for singly-linked list.\n",
    "class ListNode:\n",
    "    def __init__(self, val=0, next=None):\n",
    "        self.val = val\n",
    "        self.next = next\n",
    "\n",
    "l1 = ListNode(9)\n",
    "\n",
    "l1one = ListNode(9)\n",
    "l1two = ListNode(9)\n",
    "l1three = ListNode(9)\n",
    "l1four = ListNode(9)\n",
    "l1five = ListNode(9)\n",
    "l1six = ListNode(9)\n",
    "\n",
    "\n",
    "\n",
    "l1.next = l1one\n",
    "l1one.next = l1two\n",
    "l1two.next = l1three\n",
    "l1three.next = l1four\n",
    "l1four.next = l1five\n",
    "l1five.next = l1six\n",
    "\n",
    "\n",
    "l2 = ListNode(9)\n",
    "\n",
    "l2one = ListNode(9)\n",
    "l2two = ListNode(9)\n",
    "l2three = ListNode(9)\n",
    "\n",
    "\n",
    "\n",
    "l2.next = l2one\n",
    "l2one.next = l2two\n",
    "l2two.next = l2three\n",
    "\n",
    "\n",
    "head = temp = ListNode(0)\n",
    "carry = 0\n",
    "\n",
    "while(l1 or l2 or carry):\n",
    "    if(l1):\n",
    "        carry += l1.val\n",
    "        l1 = l1.next\n",
    "    if(l2):\n",
    "        carry += l2.val\n",
    "        l2 = l2.next\n",
    "    \n",
    "    temp.val = carry % 10\n",
    "    carry = carry // 10\n",
    "    \n",
    "    if(l1 or l2 or carry):\n",
    "        temp.next = ListNode(0)\n",
    "        temp = temp.next\n",
    "\n",
    "\n",
    "\n",
    "\n",
    "\n",
    "\n",
    "while(head):\n",
    "    print(head.val)\n",
    "    head = head.next\n"
   ]
  },
  {
   "cell_type": "code",
   "execution_count": 1,
   "metadata": {},
   "outputs": [
    {
     "name": "stdout",
     "output_type": "stream",
     "text": [
      "1\n"
     ]
    }
   ],
   "source": [
    "print(15// 10)"
   ]
  },
  {
   "cell_type": "code",
   "execution_count": 1,
   "metadata": {},
   "outputs": [
    {
     "data": {
      "text/plain": [
       "2"
      ]
     },
     "execution_count": 1,
     "metadata": {},
     "output_type": "execute_result"
    }
   ],
   "source": [
    "int(2.5)"
   ]
  },
  {
   "cell_type": "code",
   "execution_count": null,
   "metadata": {},
   "outputs": [],
   "source": []
  }
 ],
 "metadata": {
  "kernelspec": {
   "display_name": "Python 3",
   "language": "python",
   "name": "python3"
  },
  "language_info": {
   "codemirror_mode": {
    "name": "ipython",
    "version": 3
   },
   "file_extension": ".py",
   "mimetype": "text/x-python",
   "name": "python",
   "nbconvert_exporter": "python",
   "pygments_lexer": "ipython3",
   "version": "3.8.5"
  }
 },
 "nbformat": 4,
 "nbformat_minor": 4
}
