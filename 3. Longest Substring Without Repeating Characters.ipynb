{
 "cells": [
  {
   "cell_type": "markdown",
   "metadata": {},
   "source": [
    "### Given a string s, find the length of the longest substring without repeating characters.\n",
    " \n",
    "\n",
    " \n",
    "#### Example 1:\n",
    " \n",
    "Input: s = \"abcabcbb\"\n",
    "Output: 3\n",
    "Explanation: The answer is \"abc\", with the length of 3.\n",
    " \n",
    " \n",
    "  \n",
    "#### Example 2:\n",
    "  \n",
    "Input: s = \"bbbbb\"\n",
    "Output: 1\n",
    "Explanation: The answer is \"b\", with the length of 1.\n",
    " \n",
    " \n",
    " \n",
    "#### Example 3:\n",
    " \n",
    "Input: s = \"pwwkew\"\n",
    "Output: 3\n",
    "Explanation: The answer is \"wke\", with the length of 3.\n",
    "Notice that the answer must be a substring, \"pwke\" is a subsequence and not a substring.\n",
    " \n",
    " \n",
    " \n",
    "#### Example 4:\n",
    " \n",
    "Input: s = \"\"\n",
    "Output: 0\n",
    "  \n",
    " \n",
    " \n",
    " \n",
    "#### Constraints:\n",
    " \n",
    "0 <= s.length <= 5 * 104\n",
    "s consists of English letters, digits, symbols and spaces."
   ]
  },
  {
   "cell_type": "code",
   "execution_count": 17,
   "metadata": {},
   "outputs": [
    {
     "name": "stdout",
     "output_type": "stream",
     "text": [
      "5\n"
     ]
    }
   ],
   "source": [
    "#class Solution:\n",
    "#    def lengthOfLongestSubstring(self, s: str) -> int:\n",
    "\n",
    "s = 'abcaabbccdefg'\n",
    "start = 0\n",
    "end = 0\n",
    "max_len = 0\n",
    "d= {}\n",
    "\n",
    "while(end < len(s)):\n",
    "\n",
    "            #when a newly inscribed character is already in the d library, \n",
    "            #we compare the length of the chars and previous maximum length.\n",
    "            #also, renew a starting point to the end\n",
    "    if s[end] in d:\n",
    "        start = end\n",
    "    \n",
    "    max_len = max(max_len, end - start + 1)\n",
    "    d[s[end]] = end\n",
    "            \n",
    "    end += 1\n",
    "\n",
    "print(max_len)\n",
    "        "
   ]
  },
  {
   "cell_type": "code",
   "execution_count": null,
   "metadata": {},
   "outputs": [],
   "source": []
  }
 ],
 "metadata": {
  "kernelspec": {
   "display_name": "Python 3",
   "language": "python",
   "name": "python3"
  },
  "language_info": {
   "codemirror_mode": {
    "name": "ipython",
    "version": 3
   },
   "file_extension": ".py",
   "mimetype": "text/x-python",
   "name": "python",
   "nbconvert_exporter": "python",
   "pygments_lexer": "ipython3",
   "version": "3.8.5"
  }
 },
 "nbformat": 4,
 "nbformat_minor": 4
}
